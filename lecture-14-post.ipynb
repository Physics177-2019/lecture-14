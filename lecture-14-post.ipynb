{
  "nbformat": 4,
  "nbformat_minor": 0,
  "metadata": {
    "colab": {
      "name": "lecture-14.ipynb",
      "version": "0.3.2",
      "provenance": []
    },
    "kernelspec": {
      "display_name": "Python 3",
      "language": "python",
      "name": "python3"
    }
  },
  "cells": [
    {
      "metadata": {
        "id": "ye_mUpNUZGlj",
        "colab_type": "code",
        "colab": {
          "base_uri": "https://localhost:8080/",
          "height": 482
        },
        "outputId": "700c72dd-2b9b-492a-d97e-79c5cd2e5e59"
      },
      "cell_type": "code",
      "source": [
        "!pip install seaborn --upgrade"
      ],
      "execution_count": 1,
      "outputs": [
        {
          "output_type": "stream",
          "text": [
            "Collecting seaborn\n",
            "\u001b[?25l  Downloading https://files.pythonhosted.org/packages/a8/76/220ba4420459d9c4c9c9587c6ce607bf56c25b3d3d2de62056efe482dadc/seaborn-0.9.0-py3-none-any.whl (208kB)\n",
            "\u001b[K    100% |████████████████████████████████| 215kB 25.0MB/s \n",
            "\u001b[?25hRequirement already satisfied, skipping upgrade: scipy>=0.14.0 in /usr/local/lib/python3.6/dist-packages (from seaborn) (1.1.0)\n",
            "Requirement already satisfied, skipping upgrade: matplotlib>=1.4.3 in /usr/local/lib/python3.6/dist-packages (from seaborn) (3.0.2)\n",
            "Requirement already satisfied, skipping upgrade: numpy>=1.9.3 in /usr/local/lib/python3.6/dist-packages (from seaborn) (1.14.6)\n",
            "Requirement already satisfied, skipping upgrade: pandas>=0.15.2 in /usr/local/lib/python3.6/dist-packages (from seaborn) (0.22.0)\n",
            "Requirement already satisfied, skipping upgrade: python-dateutil>=2.1 in /usr/local/lib/python3.6/dist-packages (from matplotlib>=1.4.3->seaborn) (2.5.3)\n",
            "Requirement already satisfied, skipping upgrade: pyparsing!=2.0.4,!=2.1.2,!=2.1.6,>=2.0.1 in /usr/local/lib/python3.6/dist-packages (from matplotlib>=1.4.3->seaborn) (2.3.1)\n",
            "Requirement already satisfied, skipping upgrade: cycler>=0.10 in /usr/local/lib/python3.6/dist-packages (from matplotlib>=1.4.3->seaborn) (0.10.0)\n",
            "Requirement already satisfied, skipping upgrade: kiwisolver>=1.0.1 in /usr/local/lib/python3.6/dist-packages (from matplotlib>=1.4.3->seaborn) (1.0.1)\n",
            "Requirement already satisfied, skipping upgrade: pytz>=2011k in /usr/local/lib/python3.6/dist-packages (from pandas>=0.15.2->seaborn) (2018.9)\n",
            "Requirement already satisfied, skipping upgrade: six>=1.5 in /usr/local/lib/python3.6/dist-packages (from python-dateutil>=2.1->matplotlib>=1.4.3->seaborn) (1.11.0)\n",
            "Requirement already satisfied, skipping upgrade: setuptools in /usr/local/lib/python3.6/dist-packages (from kiwisolver>=1.0.1->matplotlib>=1.4.3->seaborn) (40.8.0)\n",
            "Installing collected packages: seaborn\n",
            "  Found existing installation: seaborn 0.7.1\n",
            "    Uninstalling seaborn-0.7.1:\n",
            "      Successfully uninstalled seaborn-0.7.1\n",
            "Successfully installed seaborn-0.9.0\n"
          ],
          "name": "stdout"
        },
        {
          "output_type": "display_data",
          "data": {
            "application/vnd.colab-display-data+json": {
              "pip_warning": {
                "packages": [
                  "seaborn"
                ]
              }
            }
          },
          "metadata": {
            "tags": []
          }
        }
      ]
    },
    {
      "metadata": {
        "id": "KodsRibLZGlo",
        "colab_type": "text"
      },
      "cell_type": "markdown",
      "source": [
        "# Lecture 14: MCMC for the 2D Ising model\n",
        "\n",
        "Last time we discussed Markov chain Monte Carlo (MCMC) simulations in general terms. If there are only a small number of configurations to consider, then this is straightforward. But what if the system is more complicated? \n",
        "\n",
        "As an example, we'll consider writing down a set of MCMC rules for the 2D Ising model. A small (say, $10\\times10$) grid of spins already has many more configurations than are feasible to iterate over. \n",
        "\n",
        "Previously, we considered transition probabilities $T_{ij}$ between configurations labeled $i$ and $j$. The key relationship that the $T_{ij}$ need to satisfy is [detailed balance](https://en.wikipedia.org/wiki/Detailed_balance)\n",
        "\n",
        "$$\n",
        "P(i)T_{ij} = P(j)T_{ji}\\,,\n",
        "$$\n",
        "\n",
        "where $P(i)$ is the probability of configuration $i$. Our first step toward practically implementing the MCMC simulation is to note that detailed balance is satisfied for a pair of configurations when $T_{ij}=T_{ji}=0$. In other words, not all transition probabilities need to be nonzero! However, we clearly can't set all of the $T_{ij}$ to zero. At the very least, we need to ensure that there is a \"path\" of nonzero transition probabilities between any two configurations of the system, so that we never get \"stuck\" on a subset of the configuration space. \n",
        "\n",
        "Practically, it's often useful to define *local* dynamics on the configuration space. For example, for the Ising model, we can set the probability for transitions between configurations that differ by one spin flip to be nonzero, and set the probability of all other transitions that involve multiple spin flips to be zero. This is useful because configurations that are very similar are likely to also have similar energies, so our transitions are unlikely to be rejected. Some advanced simulation algorithms do allow for more extensive changes in configurations, but we will not cover these during the course.\n",
        "\n",
        "In the examples below, we'll use the [Metropolis rule](https://en.wikipedia.org/wiki/Metropolis%E2%80%93Hastings_algorithm) to set the transition probabilities for single spin flips,\n",
        "\n",
        "$$\n",
        "T_{ij} = \\begin{cases} \n",
        "1 \\qquad\\qquad\\,\\, \\text{if }E(j) < E(i)\\\\\n",
        "e^{-\\beta\\left(E(j) - E(i)\\right)} \\;\\; \\text{if }E(j) > E(i)\n",
        "\\end{cases} \\,.\n",
        "$$\n",
        "\n",
        "\n",
        "### Example: Laying out the 2D Ising model\n",
        "\n",
        "Let's start by simply writing down an array that holds the configuration of an Ising spin system."
      ]
    },
    {
      "metadata": {
        "id": "MEh8l6jgZGlp",
        "colab_type": "code",
        "colab": {
          "base_uri": "https://localhost:8080/",
          "height": 197
        },
        "outputId": "eddecf1c-a9f9-4e5a-cbb5-4454f9b081b7"
      },
      "cell_type": "code",
      "source": [
        "import numpy as np\n",
        "import numpy.random as rng\n",
        "\n",
        "# Set the system size (N x N)\n",
        "N = 10\n",
        "\n",
        "# Define the configuration\n",
        "s = np.ones((N, N)) # FILL THIS IN\n",
        "\n",
        "print(s)"
      ],
      "execution_count": 3,
      "outputs": [
        {
          "output_type": "stream",
          "text": [
            "[[1. 1. 1. 1. 1. 1. 1. 1. 1. 1.]\n",
            " [1. 1. 1. 1. 1. 1. 1. 1. 1. 1.]\n",
            " [1. 1. 1. 1. 1. 1. 1. 1. 1. 1.]\n",
            " [1. 1. 1. 1. 1. 1. 1. 1. 1. 1.]\n",
            " [1. 1. 1. 1. 1. 1. 1. 1. 1. 1.]\n",
            " [1. 1. 1. 1. 1. 1. 1. 1. 1. 1.]\n",
            " [1. 1. 1. 1. 1. 1. 1. 1. 1. 1.]\n",
            " [1. 1. 1. 1. 1. 1. 1. 1. 1. 1.]\n",
            " [1. 1. 1. 1. 1. 1. 1. 1. 1. 1.]\n",
            " [1. 1. 1. 1. 1. 1. 1. 1. 1. 1.]]\n"
          ],
          "name": "stdout"
        }
      ]
    },
    {
      "metadata": {
        "id": "yGrbGXwdZGlt",
        "colab_type": "code",
        "colab": {}
      },
      "cell_type": "code",
      "source": [
        "\n",
        "\n",
        "\n",
        "\n",
        "\n",
        "\n",
        "\n",
        "\n",
        "\n",
        "\n",
        "\n",
        "\n",
        "\n",
        "\n",
        "\n",
        "\n",
        "\n",
        "\n",
        "\n",
        "\n",
        "\n",
        "\n"
      ],
      "execution_count": 0,
      "outputs": []
    },
    {
      "metadata": {
        "id": "70CLfTgVZGlw",
        "colab_type": "text"
      },
      "cell_type": "markdown",
      "source": [
        "### Steps of the MCMC algorithm\n",
        "\n",
        "As mentioned above, we'll only choose nonzero transition probabilities for configurations that differ by one spin flip. In that case, the steps of our MCMC algorithm are as follows:\n",
        "\n",
        "1. Select a spin\n",
        "2. Compute the probability $P$ for that spin to flip\n",
        "3. Draw a random number $r\\in[0, 1)$ and flip if $r < P$\n",
        "\n",
        "Let's run through the steps below.\n",
        "\n",
        "### Step 1. Selecting a spin\n",
        "\n",
        "How should we choose a spin to try to flip? A reasonable choice would be to pick the spin totally at random. We can do this by picking the corresponding lattice coordinates $(i, j)$ at random. Let's try this below."
      ]
    },
    {
      "metadata": {
        "id": "6g-SiWENZGlx",
        "colab_type": "code",
        "colab": {
          "base_uri": "https://localhost:8080/",
          "height": 35
        },
        "outputId": "8f3dd017-53a0-42f4-ef22-995a49b9c315"
      },
      "cell_type": "code",
      "source": [
        "i = rng.choice(N) # FILL THIS IN\n",
        "j = rng.choice(N) # FILL THIS IN\n",
        "\n",
        "print(i, j)"
      ],
      "execution_count": 8,
      "outputs": [
        {
          "output_type": "stream",
          "text": [
            "2 5\n"
          ],
          "name": "stdout"
        }
      ]
    },
    {
      "metadata": {
        "id": "owmp6mWNZGl0",
        "colab_type": "code",
        "colab": {}
      },
      "cell_type": "code",
      "source": [
        "\n",
        "\n",
        "\n",
        "\n",
        "\n",
        "\n",
        "\n",
        "\n",
        "\n",
        "\n",
        "\n",
        "\n",
        "\n",
        "\n",
        "\n",
        "\n",
        "\n",
        "\n",
        "\n",
        "\n",
        "\n",
        "\n"
      ],
      "execution_count": 0,
      "outputs": []
    },
    {
      "metadata": {
        "id": "lOrIqPUHZGl4",
        "colab_type": "text"
      },
      "cell_type": "markdown",
      "source": [
        "### Step 2. Computing the probability of a spin flip\n",
        "\n",
        "Recall the Metropolis rule for computing the transition probability between two configurations labeled by $i$ and $j$,\n",
        "\n",
        "$$\n",
        "T_{ij} = \\begin{cases} \n",
        "1 \\qquad\\qquad\\,\\, \\text{if }E(j) < E(i)\\\\\n",
        "e^{-\\beta\\left(E(j) - E(i)\\right)} \\;\\; \\text{if }E(j) > E(i)\n",
        "\\end{cases} \\,.\n",
        "$$\n",
        "\n",
        "**Note: the $i$ and $j$ in this formula are not the same as the $i$ and $j$ lattice coordinates that we chose above!** Instead, here $i$ represents our starting configuration (without the spin flip), and $j$ represents the configuration with the spin flip. \n",
        "\n",
        "In this case, our energy function is\n",
        "\n",
        "$$\n",
        "E(\\underline{\\sigma}) = -\\sum_{i=1}^{N}\\sum_{j=1}^{N} J \\left(\\sigma_{i,j} \\sigma_{i+1,j} + \\sigma_{i,j}\\sigma_{i,j+1}\\right)\\,.\n",
        "$$\n",
        "\n",
        "To make things a little bit simpler for us, we can choose *periodic boundary conditions* for our lattice, so that the $N$th spin is a nearest neighbor of the $1$st spin. In the equation above the index $N+1$ would thus correspond to $1$. Topologically, then, our 2D lattice is a torus.\n",
        "\n",
        "**Exercise**: In the code block below, write an expression for the *change in energy* of the configuration `s` if the spin at site $(i, j)$ was flipped to have the opposite sign. Recall that the value of the spin at that site is given by `s[i, j]`."
      ]
    },
    {
      "metadata": {
        "id": "eCwkl6zhZGl6",
        "colab_type": "code",
        "colab": {
          "base_uri": "https://localhost:8080/",
          "height": 35
        },
        "outputId": "9b05462d-b1b1-4952-f7b2-94f78719fc8b"
      },
      "cell_type": "code",
      "source": [
        "J = 0.1\n",
        "\n",
        "delta_E = 2*J*s[i,j]*(s[(i-1)%N,j]+s[(i+1)%N,j]+s[i,(j-1)]+s[i,(j+1)%N]) # FILL THIS IN\n",
        "\n",
        "print(delta_E)"
      ],
      "execution_count": 13,
      "outputs": [
        {
          "output_type": "stream",
          "text": [
            "0.8\n"
          ],
          "name": "stdout"
        }
      ]
    },
    {
      "metadata": {
        "id": "vlb-dusAZGl9",
        "colab_type": "code",
        "colab": {}
      },
      "cell_type": "code",
      "source": [
        "\n",
        "\n",
        "\n",
        "\n",
        "\n",
        "\n",
        "\n",
        "\n",
        "\n",
        "\n",
        "\n",
        "\n",
        "\n",
        "\n",
        "\n",
        "\n",
        "\n",
        "\n",
        "\n",
        "\n",
        "\n",
        "\n"
      ],
      "execution_count": 0,
      "outputs": []
    },
    {
      "metadata": {
        "id": "64Vcy925ZGmB",
        "colab_type": "text"
      },
      "cell_type": "markdown",
      "source": [
        "Next we need to use `delta_E` to compute the probability of flipping the spin. According to the Metropolis rule, this is one if the energy decreases, else it is $\\exp(-\\beta \\Delta E)$. Below we'll assume for simplicity that $T = 1/\\beta = 1$."
      ]
    },
    {
      "metadata": {
        "id": "NAQplxIgZGmB",
        "colab_type": "code",
        "colab": {
          "base_uri": "https://localhost:8080/",
          "height": 35
        },
        "outputId": "4a8bf837-b819-40f3-dcf0-d65eaa049f3c"
      },
      "cell_type": "code",
      "source": [
        "P = 1                     # this would be the probability if delta_E is negative\n",
        "if delta_E>0:             # is delta_E positive?\n",
        "    P = np.exp(-delta_E)  # if so, set the proper value for P\n",
        "    \n",
        "print('The probability of flipping spin (%d, %d) is %lf' % (i, j, P))"
      ],
      "execution_count": 14,
      "outputs": [
        {
          "output_type": "stream",
          "text": [
            "The probability of flipping spin (2, 5) is 0.449329\n"
          ],
          "name": "stdout"
        }
      ]
    },
    {
      "metadata": {
        "id": "HbJQIvtDZGmE",
        "colab_type": "code",
        "colab": {}
      },
      "cell_type": "code",
      "source": [
        "\n",
        "\n",
        "\n",
        "\n",
        "\n",
        "\n",
        "\n",
        "\n",
        "\n",
        "\n",
        "\n",
        "\n",
        "\n",
        "\n",
        "\n",
        "\n",
        "\n",
        "\n",
        "\n",
        "\n",
        "\n",
        "\n"
      ],
      "execution_count": 0,
      "outputs": []
    },
    {
      "metadata": {
        "id": "SZFwcjDbZGmG",
        "colab_type": "text"
      },
      "cell_type": "markdown",
      "source": [
        "### Step 3. Test and flip (or not)\n",
        "\n",
        "Now that we know the probability of a spin flip, we just need to generate a random number and use it to determine whether or not the spin will change value. For this we'll use `numpy`."
      ]
    },
    {
      "metadata": {
        "id": "EDrzIf49ZGmH",
        "colab_type": "code",
        "colab": {
          "base_uri": "https://localhost:8080/",
          "height": 35
        },
        "outputId": "fa02c9db-2a12-47dc-9980-8ea4fb7196e5"
      },
      "cell_type": "code",
      "source": [
        "r = rng.rand()    # choose a random number\n",
        "if r<P:           # check: is r < P?\n",
        "    s[i, j] *= -1 # if so, set s[i, j] to its negative (i.e., flip the spin!)\n",
        "\n",
        "print('Got r = %lf, the value of spin (%d, %d) is now %d' % (r, i, j, s[i, j]))"
      ],
      "execution_count": 15,
      "outputs": [
        {
          "output_type": "stream",
          "text": [
            "Got r = 0.147581, the value of spin (2, 5) is now -1\n"
          ],
          "name": "stdout"
        }
      ]
    },
    {
      "metadata": {
        "id": "FErUDg5zZGmJ",
        "colab_type": "code",
        "colab": {}
      },
      "cell_type": "code",
      "source": [
        "\n",
        "\n",
        "\n",
        "\n",
        "\n",
        "\n",
        "\n",
        "\n",
        "\n",
        "\n",
        "\n",
        "\n",
        "\n",
        "\n",
        "\n",
        "\n",
        "\n",
        "\n",
        "\n",
        "\n",
        "\n",
        "\n"
      ],
      "execution_count": 0,
      "outputs": []
    },
    {
      "metadata": {
        "id": "MwfRzX6RZGmL",
        "colab_type": "text"
      },
      "cell_type": "markdown",
      "source": [
        "### Reflect\n",
        "\n",
        "Does the dynamics described above satisfy detailed balance? Is it possible to transition between all possible configurations of the system?\n",
        "\n",
        "How would you scale up the steps above to run a long simulation of the Ising system?"
      ]
    }
  ]
}